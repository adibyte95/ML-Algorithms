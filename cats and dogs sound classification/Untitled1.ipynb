{
 "cells": [
  {
   "cell_type": "code",
   "execution_count": 89,
   "metadata": {},
   "outputs": [],
   "source": [
    "import numpy as np\n",
    "import utils\n",
    "import librosa\n",
    "import keras\n",
    "from keras.utils import to_categorical\n",
    "from keras.models import load_model\n",
    "from keras.models import Sequential\n",
    "from keras.layers import MaxPooling2D,Conv2D,Flatten,Activation,Dense,Dropout,BatchNormalization\n",
    "from keras.optimizers import Adamax\n",
    "from sklearn.model_selection import train_test_split\n",
    "from sklearn import preprocessing\n",
    "import os  # Manipulate files\n",
    "from  matplotlib import pyplot as plt\n",
    "from IPython.display import clear_output"
   ]
  },
  {
   "cell_type": "code",
   "execution_count": 90,
   "metadata": {},
   "outputs": [],
   "source": [
    "# List the wav files\n",
    "ROOT_DIR = './input/cats_dogs/'\n",
    "X_path = os.listdir(ROOT_DIR)\n",
    "# changing the values into 1 and 0\n",
    "y = [0 if 'cat' in f else 1 for f in X_path]  # change y to int values\n",
    "\n",
    "# Split train and test\n",
    "train_input, test_input, train_target, test_target = train_test_split(X_path, y, test_size=0.10)\n"
   ]
  },
  {
   "cell_type": "code",
   "execution_count": 91,
   "metadata": {},
   "outputs": [
    {
     "name": "stdout",
     "output_type": "stream",
     "text": [
      "cat_48.wav\n",
      "cat_110.wav\n",
      "0\n",
      "0\n"
     ]
    }
   ],
   "source": [
    "#examples\n",
    "print(train_input[0])\n",
    "print(test_input[0])\n",
    "\n",
    "print(train_target[0])\n",
    "print(test_target[0])"
   ]
  },
  {
   "cell_type": "code",
   "execution_count": 92,
   "metadata": {},
   "outputs": [],
   "source": [
    "def extract_feature(file_name):\n",
    "    X, sample_rate = librosa.load(file_name,duration=5)\n",
    "    stft = np.abs(librosa.stft(X))\n",
    "    mfccs = np.mean(librosa.feature.mfcc(y=X, sr=sample_rate, n_mfcc=40).T,axis=0)\n",
    "    chroma = np.mean(librosa.feature.chroma_stft(S=stft, sr=sample_rate).T,axis=0)\n",
    "    mel = np.mean(librosa.feature.melspectrogram(X, sr=sample_rate).T,axis=0)\n",
    "    contrast = np.mean(librosa.feature.spectral_contrast(S=stft, sr=sample_rate).T,axis=0)\n",
    "    tonnetz = np.mean(librosa.feature.tonnetz(y=librosa.effects.harmonic(X),\n",
    "    sr=sample_rate).T,axis=0)\n",
    "    return mfccs,chroma,mel,contrast,tonnetz"
   ]
  },
  {
   "cell_type": "code",
   "execution_count": 93,
   "metadata": {
    "scrolled": true
   },
   "outputs": [
    {
     "name": "stdout",
     "output_type": "stream",
     "text": [
      "processing file:  0\n",
      "processing file:  1\n",
      "processing file:  2\n",
      "processing file:  3\n",
      "processing file:  4\n",
      "processing file:  5\n",
      "processing file:  6\n",
      "processing file:  7\n",
      "processing file:  8\n",
      "processing file:  9\n",
      "processing file:  10\n",
      "processing file:  11\n",
      "processing file:  12\n",
      "processing file:  13\n",
      "processing file:  14\n",
      "processing file:  15\n",
      "processing file:  16\n",
      "processing file:  17\n",
      "processing file:  18\n",
      "processing file:  19\n",
      "processing file:  20\n",
      "processing file:  21\n",
      "processing file:  22\n",
      "processing file:  23\n",
      "processing file:  24\n",
      "processing file:  25\n",
      "processing file:  26\n",
      "processing file:  27\n",
      "processing file:  28\n",
      "processing file:  29\n",
      "processing file:  30\n",
      "processing file:  31\n",
      "processing file:  32\n",
      "processing file:  33\n",
      "processing file:  34\n",
      "processing file:  35\n",
      "processing file:  36\n",
      "processing file:  37\n",
      "processing file:  38\n",
      "processing file:  39\n",
      "processing file:  40\n",
      "processing file:  41\n",
      "processing file:  42\n",
      "processing file:  43\n",
      "processing file:  44\n",
      "processing file:  45\n",
      "processing file:  46\n",
      "processing file:  47\n",
      "processing file:  48\n",
      "processing file:  49\n",
      "processing file:  50\n",
      "processing file:  51\n",
      "processing file:  52\n",
      "processing file:  53\n",
      "processing file:  54\n",
      "processing file:  55\n",
      "processing file:  56\n",
      "processing file:  57\n",
      "processing file:  58\n",
      "processing file:  59\n",
      "processing file:  60\n",
      "processing file:  61\n",
      "processing file:  62\n",
      "processing file:  63\n",
      "processing file:  64\n",
      "processing file:  65\n",
      "processing file:  66\n",
      "processing file:  67\n",
      "processing file:  68\n",
      "processing file:  69\n",
      "processing file:  70\n",
      "processing file:  71\n",
      "processing file:  72\n",
      "processing file:  73\n",
      "processing file:  74\n",
      "processing file:  75\n",
      "processing file:  76\n",
      "processing file:  77\n",
      "processing file:  78\n",
      "processing file:  79\n",
      "processing file:  80\n",
      "processing file:  81\n",
      "processing file:  82\n",
      "processing file:  83\n",
      "processing file:  84\n",
      "processing file:  85\n",
      "processing file:  86\n",
      "processing file:  87\n",
      "processing file:  88\n",
      "processing file:  89\n",
      "processing file:  90\n",
      "processing file:  91\n",
      "processing file:  92\n",
      "processing file:  93\n",
      "processing file:  94\n",
      "processing file:  95\n",
      "processing file:  96\n",
      "processing file:  97\n",
      "processing file:  98\n",
      "processing file:  99\n",
      "processing file:  100\n",
      "processing file:  101\n",
      "processing file:  102\n",
      "processing file:  103\n",
      "processing file:  104\n"
     ]
    },
    {
     "name": "stderr",
     "output_type": "stream",
     "text": [
      "C:\\Users\\ADITYA\\Anaconda3\\envs\\tensorflow\\lib\\site-packages\\librosa\\core\\pitch.py:145: UserWarning: Trying to estimate tuning from empty frequency set.\n",
      "  warnings.warn('Trying to estimate tuning from empty frequency set.')\n"
     ]
    },
    {
     "name": "stdout",
     "output_type": "stream",
     "text": [
      "processing file:  105\n",
      "processing file:  106\n",
      "processing file:  107\n",
      "processing file:  108\n",
      "processing file:  109\n",
      "processing file:  110\n",
      "processing file:  111\n",
      "processing file:  112\n",
      "processing file:  113\n",
      "processing file:  114\n",
      "processing file:  115\n",
      "processing file:  116\n",
      "processing file:  117\n",
      "processing file:  118\n",
      "processing file:  119\n",
      "processing file:  120\n",
      "processing file:  121\n",
      "processing file:  122\n",
      "processing file:  123\n",
      "processing file:  124\n",
      "processing file:  125\n",
      "processing file:  126\n",
      "processing file:  127\n",
      "processing file:  128\n",
      "processing file:  129\n",
      "processing file:  130\n",
      "processing file:  131\n",
      "processing file:  132\n",
      "processing file:  133\n",
      "processing file:  134\n",
      "processing file:  135\n",
      "processing file:  136\n",
      "processing file:  137\n",
      "processing file:  138\n",
      "processing file:  139\n",
      "processing file:  140\n",
      "processing file:  141\n",
      "processing file:  142\n",
      "processing file:  143\n",
      "processing file:  144\n",
      "processing file:  145\n",
      "processing file:  146\n",
      "processing file:  147\n",
      "processing file:  148\n",
      "processing file:  149\n",
      "processing file:  150\n",
      "processing file:  151\n",
      "processing file:  152\n",
      "processing file:  153\n",
      "processing file:  154\n",
      "processing file:  155\n",
      "processing file:  156\n",
      "processing file:  157\n",
      "processing file:  158\n",
      "processing file:  159\n",
      "processing file:  160\n",
      "processing file:  161\n",
      "processing file:  162\n",
      "processing file:  163\n",
      "processing file:  164\n",
      "processing file:  165\n",
      "processing file:  166\n",
      "processing file:  167\n",
      "processing file:  168\n",
      "processing file:  169\n",
      "processing file:  170\n",
      "processing file:  171\n",
      "processing file:  172\n",
      "processing file:  173\n",
      "processing file:  174\n",
      "processing file:  175\n",
      "processing file:  176\n",
      "processing file:  177\n",
      "processing file:  178\n",
      "processing file:  179\n",
      "processing file:  180\n",
      "processing file:  181\n",
      "processing file:  182\n",
      "processing file:  183\n",
      "processing file:  184\n",
      "processing file:  185\n",
      "processing file:  186\n",
      "processing file:  187\n",
      "processing file:  188\n",
      "processing file:  189\n",
      "processing file:  190\n",
      "processing file:  191\n",
      "processing file:  192\n",
      "processing file:  193\n",
      "processing file:  194\n",
      "processing file:  195\n",
      "processing file:  196\n",
      "processing file:  197\n",
      "processing file:  198\n",
      "processing file:  199\n",
      "processing file:  200\n",
      "processing file:  201\n",
      "processing file:  202\n",
      "processing file:  203\n",
      "processing file:  204\n",
      "processing file:  205\n",
      "processing file:  206\n",
      "processing file:  207\n",
      "processing file:  208\n",
      "processing file:  209\n",
      "processing file:  210\n",
      "processing file:  211\n",
      "processing file:  212\n",
      "processing file:  213\n",
      "processing file:  214\n",
      "processing file:  215\n",
      "processing file:  216\n",
      "processing file:  217\n",
      "processing file:  218\n",
      "processing file:  219\n",
      "processing file:  220\n",
      "processing file:  221\n",
      "processing file:  222\n",
      "processing file:  223\n",
      "processing file:  224\n",
      "processing file:  225\n",
      "processing file:  226\n",
      "processing file:  227\n",
      "processing file:  228\n",
      "processing file:  229\n",
      "processing file:  230\n",
      "processing file:  231\n",
      "processing file:  232\n",
      "processing file:  233\n",
      "processing file:  234\n",
      "processing file:  235\n",
      "processing file:  236\n",
      "processing file:  237\n",
      "processing file:  238\n",
      "processing file:  239\n",
      "processing file:  240\n",
      "processing file:  241\n",
      "processing file:  242\n",
      "processing file:  243\n",
      "processing file:  244\n",
      "processing file:  245\n",
      "processing file:  246\n",
      "processing file:  247\n",
      "processing file:  248\n"
     ]
    }
   ],
   "source": [
    "i = 0\n",
    "X_train = []\n",
    "while i<len(train_input):\n",
    "    print('processing file: ',i)\n",
    "    filename = 'input/cats_dogs/' + train_input[i]\n",
    "    mfccs, chroma, mel, contrast,tonnetz = extract_feature(filename)\n",
    "    features = []\n",
    "    features.append(np.mean(mfccs))\n",
    "    features.append(np.mean(chroma))\n",
    "    features.append(np.mean(mel))\n",
    "    features.append(np.mean(contrast))\n",
    "    features.append(np.mean(tonnetz))\n",
    "    X_train.append(features)\n",
    "    i = i +1"
   ]
  },
  {
   "cell_type": "code",
   "execution_count": 94,
   "metadata": {},
   "outputs": [],
   "source": [
    "# converting into an numpy array\n",
    "X_train = np.asarray(X_train)\n",
    "y_train = np.asarray(train_target)"
   ]
  },
  {
   "cell_type": "code",
   "execution_count": 95,
   "metadata": {},
   "outputs": [
    {
     "data": {
      "text/plain": [
       "(249, 5)"
      ]
     },
     "execution_count": 95,
     "metadata": {},
     "output_type": "execute_result"
    }
   ],
   "source": [
    "X_train.shape"
   ]
  },
  {
   "cell_type": "code",
   "execution_count": 96,
   "metadata": {},
   "outputs": [
    {
     "name": "stdout",
     "output_type": "stream",
     "text": [
      "(249,)\n"
     ]
    }
   ],
   "source": [
    "print(y_train.shape)"
   ]
  },
  {
   "cell_type": "code",
   "execution_count": 97,
   "metadata": {},
   "outputs": [
    {
     "name": "stdout",
     "output_type": "stream",
     "text": [
      "_________________________________________________________________\n",
      "Layer (type)                 Output Shape              Param #   \n",
      "=================================================================\n",
      "dense_21 (Dense)             (None, 500)               3000      \n",
      "_________________________________________________________________\n",
      "activation_21 (Activation)   (None, 500)               0         \n",
      "_________________________________________________________________\n",
      "dense_22 (Dense)             (None, 200)               100200    \n",
      "_________________________________________________________________\n",
      "activation_22 (Activation)   (None, 200)               0         \n",
      "_________________________________________________________________\n",
      "dense_23 (Dense)             (None, 100)               20100     \n",
      "_________________________________________________________________\n",
      "activation_23 (Activation)   (None, 100)               0         \n",
      "_________________________________________________________________\n",
      "dense_24 (Dense)             (None, 1)                 101       \n",
      "_________________________________________________________________\n",
      "activation_24 (Activation)   (None, 1)                 0         \n",
      "=================================================================\n",
      "Total params: 123,401\n",
      "Trainable params: 123,401\n",
      "Non-trainable params: 0\n",
      "_________________________________________________________________\n"
     ]
    }
   ],
   "source": [
    "model = Sequential()\n",
    "model.add(Dense(500,input_shape = (5,)))\n",
    "model.add(Activation('relu'))\n",
    "model.add(Dense(200))\n",
    "model.add(Activation('relu'))\n",
    "\n",
    "model.add(Dense(100))\n",
    "model.add(Activation('relu'))\n",
    "\n",
    "model.add(Dense(1))\n",
    "model.add(Activation('sigmoid'))\n",
    "model.summary()"
   ]
  },
  {
   "cell_type": "code",
   "execution_count": 98,
   "metadata": {},
   "outputs": [],
   "source": [
    "model.compile(optimizer = 'adam', metrics=['accuracy'], loss = 'binary_crossentropy')"
   ]
  },
  {
   "cell_type": "code",
   "execution_count": 99,
   "metadata": {},
   "outputs": [],
   "source": [
    "#plot\n",
    "class PlotLosses(keras.callbacks.Callback):\n",
    "    def on_train_begin(self, logs={}):\n",
    "        self.i = 0\n",
    "        self.x = []\n",
    "        self.losses = []\n",
    "        self.val_losses = []\n",
    "        \n",
    "        self.fig = plt.figure()\n",
    "        \n",
    "        self.logs = []\n",
    "\n",
    "    def on_epoch_end(self, epoch, logs={}):\n",
    "        \n",
    "        self.logs.append(logs)\n",
    "        self.x.append(self.i)\n",
    "        self.losses.append(logs.get('loss'))\n",
    "        self.val_losses.append(logs.get('val_loss'))\n",
    "        self.i += 1\n",
    "        \n",
    "        clear_output(wait=True)\n",
    "        plt.plot(self.x, self.losses, label=\"loss\")\n",
    "        plt.plot(self.x, self.val_losses, label=\"val_loss\")\n",
    "        plt.legend()\n",
    "        plt.show();\n",
    "        \n",
    "plot_losses = PlotLosses()"
   ]
  },
  {
   "cell_type": "code",
   "execution_count": 100,
   "metadata": {
    "scrolled": true
   },
   "outputs": [
    {
     "data": {
      "image/png": "[encoded data removed]",
      "text/plain": [
       "<matplotlib.figure.Figure at 0x1e60f7c1da0>"
      ]
     },
     "metadata": {},
     "output_type": "display_data"
    },
    {
     "name": "stdout",
     "output_type": "stream",
     "text": [
      " - 0s - loss: 0.0558 - acc: 0.9719\n"
     ]
    },
    {
     "data": {
      "text/plain": [
       "<keras.callbacks.History at 0x1e60cdf4a58>"
      ]
     },
     "execution_count": 100,
     "metadata": {},
     "output_type": "execute_result"
    }
   ],
   "source": [
    "model.fit(X_train,y_train,\n",
    "         epochs  =500,\n",
    "        callbacks = [plot_losses],\n",
    "         verbose= 2)"
   ]
  },
  {
   "cell_type": "code",
   "execution_count": 101,
   "metadata": {},
   "outputs": [
    {
     "name": "stdout",
     "output_type": "stream",
     "text": [
      "processing file:  0\n",
      "processing file:  1\n",
      "processing file:  2\n",
      "processing file:  3\n",
      "processing file:  4\n",
      "processing file:  5\n",
      "processing file:  6\n",
      "processing file:  7\n",
      "processing file:  8\n",
      "processing file:  9\n",
      "processing file:  10\n",
      "processing file:  11\n",
      "processing file:  12\n",
      "processing file:  13\n",
      "processing file:  14\n",
      "processing file:  15\n",
      "processing file:  16\n",
      "processing file:  17\n",
      "processing file:  18\n",
      "processing file:  19\n",
      "processing file:  20\n",
      "processing file:  21\n",
      "processing file:  22\n",
      "processing file:  23\n",
      "processing file:  24\n",
      "processing file:  25\n",
      "processing file:  26\n",
      "processing file:  27\n"
     ]
    }
   ],
   "source": [
    "i = 0\n",
    "X_test = []\n",
    "while i<len(test_input):\n",
    "    print('processing file: ',i)\n",
    "    filename = 'input/cats_dogs/' + test_input[i]\n",
    "    mfccs, chroma, mel, contrast,tonnetz = extract_feature(filename)\n",
    "    features = []\n",
    "    features.append(np.mean(mfccs))\n",
    "    features.append(np.mean(chroma))\n",
    "    features.append(np.mean(mel))\n",
    "    features.append(np.mean(contrast))\n",
    "    features.append(np.mean(tonnetz))\n",
    "    X_test.append(features)\n",
    "    i = i +1\n",
    "X_test = np.asarray(X_test)"
   ]
  },
  {
   "cell_type": "code",
   "execution_count": 102,
   "metadata": {},
   "outputs": [],
   "source": [
    "predicted = model.predict(X_test)"
   ]
  },
  {
   "cell_type": "code",
   "execution_count": 103,
   "metadata": {},
   "outputs": [],
   "source": [
    "i = 0\n",
    "while i<len(predicted):\n",
    "    if predicted[i] >=.5:\n",
    "        predicted[i] = 1\n",
    "    else:\n",
    "        predicted[i] = 0\n",
    "    i = i +1\n",
    "y_test = np.asarray(predicted)"
   ]
  },
  {
   "cell_type": "code",
   "execution_count": 104,
   "metadata": {},
   "outputs": [
    {
     "name": "stdout",
     "output_type": "stream",
     "text": [
      "(28,)\n"
     ]
    }
   ],
   "source": [
    "predicted = predicted.reshape([-1])\n",
    "print(predicted.shape)"
   ]
  },
  {
   "cell_type": "code",
   "execution_count": 106,
   "metadata": {},
   "outputs": [
    {
     "name": "stdout",
     "output_type": "stream",
     "text": [
      "Confusion matrix, without normalization\n",
      "[[18  0]\n",
      " [ 0 10]]\n",
      "Normalized confusion matrix\n",
      "[[ 1.  0.]\n",
      " [ 0.  1.]]\n"
     ]
    },
    {
     "data": {
      "image/png": "[encoded data removed]",
      "text/plain": [
       "<matplotlib.figure.Figure at 0x1e60cdf4b70>"
      ]
     },
     "metadata": {},
     "output_type": "display_data"
    },
    {
     "data": {
      "image/png": "[encoded data removed]",
      "text/plain": [
       "<matplotlib.figure.Figure at 0x1e607885e10>"
      ]
     },
     "metadata": {},
     "output_type": "display_data"
    }
   ],
   "source": [
    "#plotting the confusion matrix\n",
    "import itertools\n",
    "from sklearn.metrics import confusion_matrix\n",
    "\n",
    "\n",
    "def plot_confusion_matrix(cm, classes,\n",
    "                          normalize=False,\n",
    "                          title='Confusion matrix',\n",
    "                          cmap=plt.cm.Blues):\n",
    "    \"\"\"\n",
    "    This function prints and plots the confusion matrix.\n",
    "    Normalization can be applied by setting `normalize=True`.\n",
    "    \"\"\"\n",
    "    if normalize:\n",
    "        cm = cm.astype('float') / cm.sum(axis=1)[:, np.newaxis]\n",
    "        print(\"Normalized confusion matrix\")\n",
    "    else:\n",
    "        print('Confusion matrix, without normalization')\n",
    "\n",
    "    print(cm)\n",
    "\n",
    "    plt.imshow(cm, interpolation='nearest', cmap=cmap)\n",
    "    plt.title(title)\n",
    "    plt.colorbar()\n",
    "    tick_marks = np.arange(len(classes))\n",
    "    plt.xticks(tick_marks, classes, rotation=45)\n",
    "    plt.yticks(tick_marks, classes)\n",
    "\n",
    "    fmt = '.2f' if normalize else 'd'\n",
    "    thresh = cm.max() / 2.\n",
    "    for i, j in itertools.product(range(cm.shape[0]), range(cm.shape[1])):\n",
    "        plt.text(j, i, format(cm[i, j], fmt),\n",
    "                 horizontalalignment=\"center\",\n",
    "                 color=\"white\" if cm[i, j] > thresh else \"black\")\n",
    "\n",
    "    plt.tight_layout()\n",
    "    plt.ylabel('True label')\n",
    "    plt.xlabel('Predicted label')\n",
    "\n",
    "# Compute confusion matrix\n",
    "cnf_matrix = confusion_matrix(y_test, predicted)\n",
    "np.set_printoptions(precision=2)\n",
    "\n",
    "# Plot non-normalized confusion matrix\n",
    "plt.figure()\n",
    "plot_confusion_matrix(cnf_matrix, classes=['cat','dog'],\n",
    "                      title='Confusion matrix, without normalization')\n",
    "\n",
    "# Plot normalized confusion matrix\n",
    "plt.figure()\n",
    "plot_confusion_matrix(cnf_matrix, classes=['cat','dog'], normalize=True,\n",
    "                      title='Normalized confusion matrix')\n",
    "\n",
    "plt.show()"
   ]
  },
  {
   "cell_type": "code",
   "execution_count": null,
   "metadata": {},
   "outputs": [],
   "source": []
  }
 ],
 "metadata": {
  "kernelspec": {
   "display_name": "Python 3",
   "language": "python",
   "name": "python3"
  },
  "language_info": {
   "codemirror_mode": {
    "name": "ipython",
    "version": 3
   },
   "file_extension": ".py",
   "mimetype": "text/x-python",
   "name": "python",
   "nbconvert_exporter": "python",
   "pygments_lexer": "ipython3",
   "version": "3.5.4"
  }
 },
 "nbformat": 4,
 "nbformat_minor": 2
}
