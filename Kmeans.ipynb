{
 "cells": [
  {
   "cell_type": "markdown",
   "metadata": {},
   "source": [
    "#                               K MEANS CLUSTERING EXAMPLE"
   ]
  },
  {
   "cell_type": "code",
   "execution_count": 4,
   "metadata": {
    "collapsed": true
   },
   "outputs": [],
   "source": [
    "# dependencies \n",
    "import numpy as np\n",
    "import matplotlib.pyplot as plt"
   ]
  },
  {
   "cell_type": "code",
   "execution_count": 5,
   "metadata": {
    "collapsed": true
   },
   "outputs": [],
   "source": [
    "# we will deploy a number of nodes each having a 2 feature X and Y\n",
    "# on this data we will run the K means clustering algorithm"
   ]
  },
  {
   "cell_type": "code",
   "execution_count": 6,
   "metadata": {},
   "outputs": [
    {
     "name": "stdout",
     "output_type": "stream",
     "text": [
      "69\n",
      "[[ 47.  18.]\n",
      " [ 18.  16.]\n",
      " [ 45.  36.]\n",
      " [ 95.  76.]\n",
      " [ 39.  90.]\n",
      " [ 41.  79.]\n",
      " [ 35.  60.]\n",
      " [ 44.  15.]\n",
      " [ 79.  44.]\n",
      " [ 26.  80.]\n",
      " [ 64.  15.]\n",
      " [ 19.  73.]\n",
      " [ 84.  82.]\n",
      " [ 56.  85.]\n",
      " [ 92.  57.]\n",
      " [ 35.  61.]\n",
      " [ 69.  18.]\n",
      " [ 26.  23.]\n",
      " [ 32.  24.]\n",
      " [ 10.  67.]\n",
      " [ 18.  35.]\n",
      " [ 32.  97.]\n",
      " [ 21.  55.]\n",
      " [ 43.  15.]\n",
      " [  8.   9.]\n",
      " [ 39.  19.]\n",
      " [ 71.  16.]\n",
      " [ 56.  92.]\n",
      " [ 92.   7.]\n",
      " [ 66.  13.]\n",
      " [ 85.  78.]\n",
      " [ 41.  36.]\n",
      " [ 36.   8.]\n",
      " [ 96.   8.]\n",
      " [ 28.   7.]\n",
      " [ 28.  55.]\n",
      " [ 52.  37.]\n",
      " [ 95.  59.]\n",
      " [ 63.  28.]\n",
      " [ 78.  87.]\n",
      " [ 29.  28.]\n",
      " [ 45.  79.]\n",
      " [ 10.  80.]\n",
      " [ 55.  16.]\n",
      " [ 97.  83.]\n",
      " [ 33.  10.]\n",
      " [ 38.  98.]\n",
      " [ 50.  39.]\n",
      " [ 14.  72.]\n",
      " [ 15.  78.]\n",
      " [ 57.  14.]\n",
      " [ 56.  82.]\n",
      " [ 23.  36.]\n",
      " [ 94.  49.]\n",
      " [ 36.  46.]\n",
      " [ 54.  79.]\n",
      " [ 57.  50.]\n",
      " [ 88.  16.]\n",
      " [  8.  81.]\n",
      " [ 53.  16.]\n",
      " [ 26.   9.]\n",
      " [ 80.  88.]\n",
      " [ 86.  28.]\n",
      " [ 13.   9.]\n",
      " [ 26.  37.]\n",
      " [ 97.  18.]\n",
      " [ 24.   9.]\n",
      " [ 90.  70.]\n",
      " [ 92.  40.]]\n"
     ]
    }
   ],
   "source": [
    "# number of points in the 2 D space \n",
    "number_points = 4\n",
    "number_points = np.random.randint(low = 10, high = 100, size =1)   # assigning the random number of points\n",
    "print(number_points[0])\n",
    "\n",
    "# position matrix will store the X and the Y co-ordinate of the points\n",
    "position = np.zeros(shape=(number_points[0],2))\n",
    "#assigning the X and Y co-ordinate to each individual points\n",
    "i=0\n",
    "while i <number_points[0]:\n",
    "    position[i][0] = np.random.randint(low = 5, high = 100, size =1)[0]\n",
    "    position[i][1] = np.random.randint(low = 5, high = 100, size =1)[0]\n",
    "    i = i + 1\n",
    "print(position)\n"
   ]
  },
  {
   "cell_type": "code",
   "execution_count": 7,
   "metadata": {},
   "outputs": [],
   "source": [
    "# now we will plot these points using matplotlib to get a better understanding \n",
    "i = 0\n",
    "plt.title('deployment of nodes in the space')\n",
    "plt.ylabel('y co-ordinate')\n",
    "plt.xlabel('x co-ordinate')\n",
    "fig,ax = plt.subplots()\n",
    "while i<number_points[0]:\n",
    "    ax.scatter([position[i][0]],[position[i][1]], color='blue')\n",
    "    i = i + 1\n",
    "fig\n",
    "plt.close('all')"
   ]
  },
  {
   "cell_type": "code",
   "execution_count": 8,
   "metadata": {},
   "outputs": [
    {
     "name": "stdout",
     "output_type": "stream",
     "text": [
      "[[ 92.  40.]\n",
      " [ 92.   7.]\n",
      " [ 29.  28.]]\n"
     ]
    },
    {
     "data": {
      "image/png": "[encoded data removed]",
      "text/plain": [
       "<matplotlib.figure.Figure at 0x23734f90c50>"
      ]
     },
     "execution_count": 8,
     "metadata": {},
     "output_type": "execute_result"
    }
   ],
   "source": [
    "# start of K means clustering algorithm\n",
    "\n",
    "# number of clusters we want to divide the the whole plot of points into\n",
    "# you are free to change the value of  K\n",
    "k = 3\n",
    "if(k > number_points[0]):\n",
    "    print('number of clusters cannot be greater than the no of points itself')\n",
    "    exit(0)\n",
    "\n",
    "# now we will have K centroid\n",
    "centroid = np.zeros(shape=(k,2))\n",
    "\n",
    "# randomly allocating the value of the centroid array\n",
    "i = 0\n",
    "while i<k:\n",
    "    point = np.random.randint(low = 0, high = number_points[0], size =1)[0]\n",
    "    centroid[i][0] = position[point][0]\n",
    "    centroid[i][1] = position[point][1]\n",
    "    ax.scatter([centroid[i][0]],[centroid[i][1]], color='red')\n",
    "    i = i +1\n",
    "\n",
    "print(centroid)\n",
    "# centroid in the map is shown as red points\n",
    "fig\n",
    "# here we will have K no of overlapping red and blue points "
   ]
  },
  {
   "cell_type": "code",
   "execution_count": 9,
   "metadata": {},
   "outputs": [],
   "source": [
    "# now we will have to assign each of the point to a paticular cluster \n",
    "# we can have at most K no of clusters so \n",
    "# assign array will have this mapping and each value will be between 1 to K\n",
    "assign = np.zeros(shape=(number_points[0],1))\n",
    "loops = 1000\n",
    "while loops >0:\n",
    "    i =0\n",
    "    j =0\n",
    "    while i<number_points[0]:\n",
    "        minimum = 100000\n",
    "        elem = 0\n",
    "        while j<k:\n",
    "            dis = (position[i][0] - centroid[j][0])**2  + (position[i][1] - centroid[j][1])**2 \n",
    "            dis = np.sqrt(dis)\n",
    "            if  dis < minimum:\n",
    "                minimum = dis\n",
    "                elem = int(j+1)\n",
    "            j = j +1\n",
    "        assign[i] = elem\n",
    "        j = 0\n",
    "        i = i +1\n",
    "    # now re evaluating the centroid \n",
    "    i = 0\n",
    "    j =0 \n",
    "    while i<k:\n",
    "        count = 0\n",
    "        x_or=0\n",
    "        y_or=0\n",
    "        while j<number_points[0]:\n",
    "            a = (int)(assign[j][0])\n",
    "            b = (int)(i+1)            \n",
    "            if a == b:\n",
    "                x_or = x_or + position[j][0]\n",
    "                y_or = y_or + position[j][1]\n",
    "                count = count +1 \n",
    "            j = j +1\n",
    "        if count != 0:\n",
    "            x_or = np.floor(x_or/count)\n",
    "            y_or = np.floor(y_or/count)\n",
    "        centroid[i][0] = x_or\n",
    "        centroid[i][1] = y_or\n",
    "        j= 1\n",
    "        i = i +1\n",
    "    loops  = loops -1\n",
    "# now we will see which of the points is assigned to which of the cluster        "
   ]
  },
  {
   "cell_type": "code",
   "execution_count": 10,
   "metadata": {},
   "outputs": [
    {
     "data": {
      "image/png": "[encoded data removed]",
      "text/plain": [
       "<matplotlib.figure.Figure at 0x2373536e978>"
      ]
     },
     "execution_count": 10,
     "metadata": {},
     "output_type": "execute_result"
    }
   ],
   "source": [
    "#graph plot \n",
    "\n",
    "#clearing the plots\n",
    "plt.clf()\n",
    "        \n",
    "plt.title('deployment of nodes in the space')\n",
    "plt.ylabel('y co-ordinate')\n",
    "plt.xlabel('x co-ordinate')\n",
    "fig,ax = plt.subplots()\n",
    "i = 0\n",
    "while i<number_points[0]:\n",
    "    if assign[i] == 1:\n",
    "        ax.scatter([position[i][0]],[position[i][1]], color='red')\n",
    "    if assign[i] == 2:\n",
    "        ax.scatter([position[i][0]],[position[i][1]], color='green')\n",
    "    if assign[i] == 3:\n",
    "        ax.scatter([position[i][0]],[position[i][1]], color='blue')\n",
    "    i = i +1\n",
    "fig\n",
    "        "
   ]
  },
  {
   "cell_type": "code",
   "execution_count": null,
   "metadata": {
    "collapsed": true
   },
   "outputs": [],
   "source": []
  }
 ],
 "metadata": {
  "kernelspec": {
   "display_name": "Python 3",
   "language": "python",
   "name": "python3"
  },
  "language_info": {
   "codemirror_mode": {
    "name": "ipython",
    "version": 3
   },
   "file_extension": ".py",
   "mimetype": "text/x-python",
   "name": "python",
   "nbconvert_exporter": "python",
   "pygments_lexer": "ipython3",
   "version": "3.6.3"
  }
 },
 "nbformat": 4,
 "nbformat_minor": 2
}
