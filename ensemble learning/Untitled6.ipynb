{
 "cells": [
  {
   "cell_type": "code",
   "execution_count": 137,
   "metadata": {},
   "outputs": [],
   "source": [
    "import keras\n",
    "import numpy as np\n",
    "import pandas as pd\n",
    "from keras.models import Sequential\n",
    "from keras.layers import Dense, Activation\n",
    "from sklearn.model_selection import train_test_split\n",
    "from keras.optimizers import SGD\n"
   ]
  },
  {
   "cell_type": "code",
   "execution_count": 177,
   "metadata": {},
   "outputs": [],
   "source": [
    "data = pd.read_csv('criminal_train.csv')\n",
    "y_train = data['Criminal']\n",
    "\n",
    "input_ab = pd.read_csv('input_ab.csv')\n",
    "input_ab = input_ab['Criminal']\n",
    "\n",
    "input_gb = pd.read_csv('input_gb.csv')\n",
    "input_gb = input_gb['Criminal']\n",
    "\n",
    "input_knn = pd.read_csv('input_knn.csv')\n",
    "input_knn = input_knn['Criminal']\n",
    "\n",
    "input_rf = pd.read_csv('input_rf.csv')\n",
    "input_rf = input_rf['Criminal']\n",
    "\n",
    "input_lr = pd.read_csv('input_rf.csv')\n",
    "input_lr = input_lr['Criminal']\n",
    "\n",
    "input_svm = pd.read_csv('input_svm.csv')\n",
    "input_svm = input_svm['Criminal']"
   ]
  },
  {
   "cell_type": "code",
   "execution_count": 178,
   "metadata": {},
   "outputs": [
    {
     "name": "stdout",
     "output_type": "stream",
     "text": [
      "[[0 0 0 0 0 0]\n",
      " [0 0 1 1 1 0]\n",
      " [0 0 0 0 0 0]\n",
      " ..., \n",
      " [0 0 0 0 0 0]\n",
      " [0 0 0 0 0 0]\n",
      " [0 0 0 0 0 0]]\n"
     ]
    }
   ],
   "source": [
    "# training data\n",
    "i = 0\n",
    "X_train = []\n",
    "# rows = 45717\n",
    "while i <=45717:\n",
    "    p = []\n",
    "    p.append(input_ab[i])\n",
    "    p.append(input_gb[i])\n",
    "    p.append(input_knn[i])\n",
    "    p.append(input_rf[i])\n",
    "    p.append(input_lr[i])\n",
    "    p.append(input_svm[i])\n",
    "    X_train.append(p)\n",
    "    i = i +1\n",
    "X_train = np.asarray(X_train)\n",
    "print(X_train)"
   ]
  },
  {
   "cell_type": "code",
   "execution_count": 161,
   "metadata": {},
   "outputs": [],
   "source": [
    "model = Sequential()\n",
    "model.add(Dense(2, input_shape=(4,)))\n",
    "model.add(Activation('relu'))\n",
    "model.add(Dense(1))\n",
    "model.add(Activation('softmax'))"
   ]
  },
  {
   "cell_type": "code",
   "execution_count": 162,
   "metadata": {},
   "outputs": [
    {
     "name": "stdout",
     "output_type": "stream",
     "text": [
      "_________________________________________________________________\n",
      "Layer (type)                 Output Shape              Param #   \n",
      "=================================================================\n",
      "dense_43 (Dense)             (None, 2)                 10        \n",
      "_________________________________________________________________\n",
      "activation_43 (Activation)   (None, 2)                 0         \n",
      "_________________________________________________________________\n",
      "dense_44 (Dense)             (None, 1)                 3         \n",
      "_________________________________________________________________\n",
      "activation_44 (Activation)   (None, 1)                 0         \n",
      "=================================================================\n",
      "Total params: 13\n",
      "Trainable params: 13\n",
      "Non-trainable params: 0\n",
      "_________________________________________________________________\n"
     ]
    }
   ],
   "source": [
    "model.summary()"
   ]
  },
  {
   "cell_type": "code",
   "execution_count": 163,
   "metadata": {},
   "outputs": [],
   "source": [
    "sgd = SGD(lr=0.0001, decay=1e-6, momentum=0.9)\n",
    "model.compile(loss='binary_crossentropy',\n",
    "              optimizer=sgd,\n",
    "              metrics=['accuracy'])"
   ]
  },
  {
   "cell_type": "code",
   "execution_count": 171,
   "metadata": {},
   "outputs": [],
   "source": [
    "from sklearn.linear_model import LogisticRegression\n",
    "from sklearn.ensemble import RandomForestClassifier\n",
    "model =LogisticRegression(penalty='l2', dual=False, tol=0.0001, C=.3)"
   ]
  },
  {
   "cell_type": "code",
   "execution_count": 179,
   "metadata": {},
   "outputs": [
    {
     "name": "stdout",
     "output_type": "stream",
     "text": [
      "training accuracy:  0.999912507109\n"
     ]
    }
   ],
   "source": [
    "#X_train,X_test, y_train, y_test = train_test_split(X_train,y_train,test_size = .2)\n",
    "model.fit(X_train, y_train)\n",
    "one = model.score(X_train, y_train)\n",
    "#two = model.score(X_test, y_test)\n",
    "print('training accuracy: ', one)\n",
    "#print('testing accuracy: ',two)"
   ]
  },
  {
   "cell_type": "code",
   "execution_count": 180,
   "metadata": {},
   "outputs": [],
   "source": [
    "output_ab = pd.read_csv('output_ab.csv')\n",
    "output_ab = output_ab['Criminal']\n",
    "\n",
    "output_gb = pd.read_csv('output_gb.csv')\n",
    "output_gb = output_gb['Criminal']\n",
    "\n",
    "output_knn = pd.read_csv('output_knn.csv')\n",
    "output_knn = output_knn['Criminal']\n",
    "\n",
    "output_rf = pd.read_csv('output_rf.csv')\n",
    "output_rf = output_rf['Criminal']\n",
    "\n",
    "output_lr = pd.read_csv('output_rf.csv')\n",
    "output_lr = output_lr['Criminal']\n",
    "\n",
    "output_svm = pd.read_csv('output_svm.csv')\n",
    "output_svm= output_svm['Criminal']"
   ]
  },
  {
   "cell_type": "code",
   "execution_count": 181,
   "metadata": {},
   "outputs": [],
   "source": [
    "#testing data\n",
    "i = 0\n",
    "X_test = []\n",
    "# rows = 11429\n",
    "while i <=11429:\n",
    "    p = []\n",
    "    p.append(output_ab[i])\n",
    "    p.append(output_gb[i])\n",
    "    p.append(output_knn[i])\n",
    "    p.append(output_rf[i])\n",
    "    p.append(output_lr[i])\n",
    "    p.append(output_svm[i])\n",
    "    X_test.append(p)\n",
    "    i = i +1\n",
    "X_test = np.asarray(X_test)"
   ]
  },
  {
   "cell_type": "code",
   "execution_count": 182,
   "metadata": {},
   "outputs": [],
   "source": [
    "df = pd.read_csv('criminal_test.csv')\n",
    "predicted = model.predict(X_test)\n",
    "frame = pd.DataFrame()\n",
    "frame['PERID'] = df['PERID']\n",
    "frame['Criminal'] = predicted\n",
    "frame.to_csv('output.csv', index = False)\n"
   ]
  },
  {
   "cell_type": "code",
   "execution_count": null,
   "metadata": {},
   "outputs": [],
   "source": []
  }
 ],
 "metadata": {
  "kernelspec": {
   "display_name": "Python 3",
   "language": "python",
   "name": "python3"
  },
  "language_info": {
   "codemirror_mode": {
    "name": "ipython",
    "version": 3
   },
   "file_extension": ".py",
   "mimetype": "text/x-python",
   "name": "python",
   "nbconvert_exporter": "python",
   "pygments_lexer": "ipython3",
   "version": "3.5.4"
  }
 },
 "nbformat": 4,
 "nbformat_minor": 2
}
